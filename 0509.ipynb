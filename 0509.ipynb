{
  "nbformat": 4,
  "nbformat_minor": 0,
  "metadata": {
    "colab": {
      "name": "0509.ipynb",
      "provenance": [],
      "authorship_tag": "ABX9TyPFLn2DNDiqV6a1MWgxZmPy",
      "include_colab_link": true
    },
    "kernelspec": {
      "name": "python3",
      "display_name": "Python 3"
    },
    "language_info": {
      "name": "python"
    }
  },
  "cells": [
    {
      "cell_type": "markdown",
      "metadata": {
        "id": "view-in-github",
        "colab_type": "text"
      },
      "source": [
        "<a href=\"https://colab.research.google.com/github/wpz1228/Introduction-to-Computers/blob/main/0509.ipynb\" target=\"_parent\"><img src=\"https://colab.research.google.com/assets/colab-badge.svg\" alt=\"Open In Colab\"/></a>"
      ]
    },
    {
      "cell_type": "code",
      "execution_count": null,
      "metadata": {
        "colab": {
          "base_uri": "https://localhost:8080/"
        },
        "id": "pwf07mEW7ks1",
        "outputId": "cae46a0e-b724-40ba-f59e-46b7ce8c60de"
      },
      "outputs": [
        {
          "output_type": "stream",
          "name": "stdout",
          "text": [
            "請輸入你的體溫34\n",
            "體溫正常!\n"
          ]
        }
      ],
      "source": [
        "temp = float(input(\"請輸入你的體溫\"))\n",
        "if temp >= 37.5:\n",
        "  print(\"體溫過高!\")\n",
        "elif temp >= 37 and temp < 37.4:\n",
        "  print(\"體溫略高!\")\n",
        "elif temp >= 34 and temp <= 36.9:\n",
        "  print(\"體溫正常!\")\n",
        "else:\n",
        "  print(\"體溫異常，請重新量測!\")"
      ]
    },
    {
      "cell_type": "code",
      "source": [
        "score = int(input(\"請輸入成績\"))\n",
        "if (int(score) >= 90):\n",
        "  print(\"A\")\n",
        "elif (int(score) >= 80):\n",
        "  print(\"B\")\n",
        "elif (int(score) >= 70):\n",
        "  print(\"C\")\n",
        "elif (int(score) >= 60):\n",
        "  print(\"D\")\n",
        "else:\n",
        "  print(\"E\")"
      ],
      "metadata": {
        "colab": {
          "base_uri": "https://localhost:8080/"
        },
        "id": "0hnPwi9t8h5P",
        "outputId": "ea5dd0d7-9605-4127-abd5-d0331ecc28e3"
      },
      "execution_count": null,
      "outputs": [
        {
          "output_type": "stream",
          "name": "stdout",
          "text": [
            "請輸入成績79\n",
            "C\n"
          ]
        }
      ]
    },
    {
      "cell_type": "code",
      "source": [
        "money = int(input(\"請輸入購物金額:\"))\n",
        "if (money >= 10000):\n",
        " if(money >= 100000):\n",
        "   print(\"八折\", money *0.8, end = \"元\\n\")\n",
        " elif(money >= 50000):\n",
        "   print(\"八五折\", money *0.85, \"元\\n\")\n",
        " elif(money >= 30000):\n",
        "   print(\"九折\", money *0.9, \"元\\n\")\n",
        " else:\n",
        "   print(\"九五折\", money *0.95, \"元\\n\")\n",
        "else:\n",
        "  print(\"沒打折\", money, end = \"元\\n\")"
      ],
      "metadata": {
        "colab": {
          "base_uri": "https://localhost:8080/"
        },
        "id": "7NCLARaaEuLS",
        "outputId": "9145dc1f-a403-4902-86da-b2c4e2b71110"
      },
      "execution_count": null,
      "outputs": [
        {
          "output_type": "stream",
          "name": "stdout",
          "text": [
            "請輸入購物金額:1200000\n",
            "八折 960000.0元\n"
          ]
        }
      ]
    },
    {
      "cell_type": "code",
      "source": [
        "month = int(input(\"請輸入月份:\"))\n",
        "if (month <= 12): \n",
        " if(month == 3 or 4 or 5):\n",
        "  print(month,\"月是春天!\")\n",
        " elif(month == 6 or 7 or 8):\n",
        "  print(month,\"月是夏天!\")\n",
        " elif(month == 9 or 10 or 11):\n",
        "  print(month,\"月是秋天!\")\n",
        " elif(month == 12 or 1 or 2):\n",
        "  print(month,\"月是冬天!\")\n",
        "else:\n",
        "  print(\"月份不在範圍內!\")"
      ],
      "metadata": {
        "colab": {
          "base_uri": "https://localhost:8080/"
        },
        "id": "ObUfWdnLK39_",
        "outputId": "8d72d0c4-2915-4846-f904-6f8f02c5b9c5"
      },
      "execution_count": null,
      "outputs": [
        {
          "output_type": "stream",
          "name": "stdout",
          "text": [
            "請輸入月份:5\n",
            "5 月是春天!\n"
          ]
        }
      ]
    },
    {
      "cell_type": "code",
      "source": [
        "tax = int(input(\"請輸入今年收入淨額:\"))\n",
        "if (tax >= 300000):\n",
        "  if(tax >= 2000000):\n",
        "    print(\"付稅金額:\",tax*0.3,\"元\")\n",
        "  elif(tax >= 1000000):\n",
        "    print(\"付稅金額:\",tax*0.21,\"元\")\n",
        "  elif(tax >= 600000):\n",
        "    print(\"付稅金額:\",tax*0.13,\"元\")\n",
        "  elif(tax >= 300000):\n",
        "    print(\"付稅金額:\",tax*0.06,\"元\")\n",
        "else:\n",
        "  print(\"付稅金額:\",0,\"元\")"
      ],
      "metadata": {
        "id": "CAGqy8GrPTeA",
        "colab": {
          "base_uri": "https://localhost:8080/"
        },
        "outputId": "8713458e-6261-4da1-d3e5-126e07053bab"
      },
      "execution_count": 4,
      "outputs": [
        {
          "output_type": "stream",
          "name": "stdout",
          "text": [
            "請輸入今年收入淨額:1500000\n",
            "付稅金額: 315000.0 元\n"
          ]
        }
      ]
    }
  ]
}